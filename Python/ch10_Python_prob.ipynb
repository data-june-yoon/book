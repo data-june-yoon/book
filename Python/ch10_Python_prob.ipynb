{
 "cells": [
  {
   "cell_type": "markdown",
   "id": "f86136c5",
   "metadata": {},
   "source": [
    "## 10장 2절"
   ]
  },
  {
   "cell_type": "code",
   "execution_count": 1,
   "id": "0c39f443",
   "metadata": {},
   "outputs": [
    {
     "data": {
      "text/plain": [
       "0.20065812479999992"
      ]
     },
     "execution_count": 1,
     "metadata": {},
     "output_type": "execute_result"
    }
   ],
   "source": [
    "from scipy.stats import binom\n",
    "binom.pmf(5, 10, 0.4)"
   ]
  },
  {
   "cell_type": "code",
   "execution_count": 2,
   "id": "69189dc4",
   "metadata": {},
   "outputs": [
    {
     "data": {
      "text/plain": [
       "0.16728975359999987"
      ]
     },
     "execution_count": 2,
     "metadata": {},
     "output_type": "execute_result"
    }
   ],
   "source": [
    "binom.pmf(0, 10, 0.4) + binom.pmf(1, 10, 0.4) + binom.pmf(2, 10, 0.4)"
   ]
  },
  {
   "cell_type": "code",
   "execution_count": 3,
   "id": "1cfb12ca",
   "metadata": {},
   "outputs": [
    {
     "data": {
      "text/plain": [
       "0.16728975359999992"
      ]
     },
     "execution_count": 3,
     "metadata": {},
     "output_type": "execute_result"
    }
   ],
   "source": [
    "binom.cdf(2, 10, 0.4)"
   ]
  }
 ],
 "metadata": {
  "kernelspec": {
   "display_name": "Python 3 (ipykernel)",
   "language": "python",
   "name": "python3"
  },
  "language_info": {
   "codemirror_mode": {
    "name": "ipython",
    "version": 3
   },
   "file_extension": ".py",
   "mimetype": "text/x-python",
   "name": "python",
   "nbconvert_exporter": "python",
   "pygments_lexer": "ipython3",
   "version": "3.9.7"
  }
 },
 "nbformat": 4,
 "nbformat_minor": 5
}
