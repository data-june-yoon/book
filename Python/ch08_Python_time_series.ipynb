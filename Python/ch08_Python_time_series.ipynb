{
 "cells": [
  {
   "cell_type": "markdown",
   "id": "4462463e",
   "metadata": {},
   "source": [
    "## 8장 1절 "
   ]
  },
  {
   "cell_type": "code",
   "execution_count": 1,
   "id": "d77d04d9",
   "metadata": {},
   "outputs": [
    {
     "data": {
      "text/html": [
       "<div>\n",
       "<style scoped>\n",
       "    .dataframe tbody tr th:only-of-type {\n",
       "        vertical-align: middle;\n",
       "    }\n",
       "\n",
       "    .dataframe tbody tr th {\n",
       "        vertical-align: top;\n",
       "    }\n",
       "\n",
       "    .dataframe thead th {\n",
       "        text-align: right;\n",
       "    }\n",
       "</style>\n",
       "<table border=\"1\" class=\"dataframe\">\n",
       "  <thead>\n",
       "    <tr style=\"text-align: right;\">\n",
       "      <th></th>\n",
       "      <th>Date</th>\n",
       "      <th>Close</th>\n",
       "    </tr>\n",
       "  </thead>\n",
       "  <tbody>\n",
       "    <tr>\n",
       "      <th>0</th>\n",
       "      <td>2016-11-28</td>\n",
       "      <td>252.96</td>\n",
       "    </tr>\n",
       "    <tr>\n",
       "      <th>1</th>\n",
       "      <td>2016-11-29</td>\n",
       "      <td>252.91</td>\n",
       "    </tr>\n",
       "    <tr>\n",
       "      <th>2</th>\n",
       "      <td>2016-11-30</td>\n",
       "      <td>254.26</td>\n",
       "    </tr>\n",
       "    <tr>\n",
       "      <th>3</th>\n",
       "      <td>2016-12-01</td>\n",
       "      <td>254.48</td>\n",
       "    </tr>\n",
       "    <tr>\n",
       "      <th>4</th>\n",
       "      <td>2016-12-02</td>\n",
       "      <td>252.88</td>\n",
       "    </tr>\n",
       "  </tbody>\n",
       "</table>\n",
       "</div>"
      ],
      "text/plain": [
       "         Date   Close\n",
       "0  2016-11-28  252.96\n",
       "1  2016-11-29  252.91\n",
       "2  2016-11-30  254.26\n",
       "3  2016-12-01  254.48\n",
       "4  2016-12-02  252.88"
      ]
     },
     "execution_count": 1,
     "metadata": {},
     "output_type": "execute_result"
    }
   ],
   "source": [
    "import pandas as pd\n",
    "kospi = pd.read_csv('D:/Stat_Book/Data/KOSPI.csv') # 실행시 경로 수정\n",
    "kospi.head()"
   ]
  },
  {
   "cell_type": "code",
   "execution_count": 2,
   "id": "67685cd3",
   "metadata": {},
   "outputs": [
    {
     "name": "stdout",
     "output_type": "stream",
     "text": [
      "<class 'pandas.core.frame.DataFrame'>\n",
      "RangeIndex: 1229 entries, 0 to 1228\n",
      "Data columns (total 2 columns):\n",
      " #   Column  Non-Null Count  Dtype  \n",
      "---  ------  --------------  -----  \n",
      " 0   Date    1229 non-null   object \n",
      " 1   Close   1229 non-null   float64\n",
      "dtypes: float64(1), object(1)\n",
      "memory usage: 19.3+ KB\n"
     ]
    }
   ],
   "source": [
    "kospi.info()"
   ]
  },
  {
   "cell_type": "code",
   "execution_count": 3,
   "id": "6d62174b",
   "metadata": {},
   "outputs": [
    {
     "name": "stdout",
     "output_type": "stream",
     "text": [
      "<class 'pandas.core.frame.DataFrame'>\n",
      "RangeIndex: 1229 entries, 0 to 1228\n",
      "Data columns (total 3 columns):\n",
      " #   Column    Non-Null Count  Dtype         \n",
      "---  ------    --------------  -----         \n",
      " 0   Date      1229 non-null   object        \n",
      " 1   Close     1229 non-null   float64       \n",
      " 2   new_Date  1229 non-null   datetime64[ns]\n",
      "dtypes: datetime64[ns](1), float64(1), object(1)\n",
      "memory usage: 28.9+ KB\n"
     ]
    }
   ],
   "source": [
    "kospi['new_Date'] = pd.to_datetime(kospi.Date, format='%Y-%m-%d') \n",
    "kospi.info()"
   ]
  },
  {
   "cell_type": "code",
   "execution_count": 4,
   "id": "4dd8575a",
   "metadata": {},
   "outputs": [
    {
     "data": {
      "text/plain": [
       "Timestamp('2016-12-09 00:00:00')"
      ]
     },
     "execution_count": 4,
     "metadata": {},
     "output_type": "execute_result"
    }
   ],
   "source": [
    "kospi.new_Date[9]"
   ]
  },
  {
   "cell_type": "code",
   "execution_count": 5,
   "id": "53bea00a",
   "metadata": {},
   "outputs": [
    {
     "data": {
      "text/plain": [
       "Timestamp('2016-11-28 00:00:00')"
      ]
     },
     "execution_count": 5,
     "metadata": {},
     "output_type": "execute_result"
    }
   ],
   "source": [
    "kospi.new_Date[0]"
   ]
  },
  {
   "cell_type": "code",
   "execution_count": 6,
   "id": "4518a310",
   "metadata": {},
   "outputs": [
    {
     "data": {
      "text/plain": [
       "Timedelta('11 days 00:00:00')"
      ]
     },
     "execution_count": 6,
     "metadata": {},
     "output_type": "execute_result"
    }
   ],
   "source": [
    "kospi.new_Date[9] - kospi.new_Date[0]"
   ]
  },
  {
   "cell_type": "code",
   "execution_count": 7,
   "id": "4d2004af",
   "metadata": {},
   "outputs": [
    {
     "data": {
      "text/plain": [
       "'August 21 2021'"
      ]
     },
     "execution_count": 7,
     "metadata": {},
     "output_type": "execute_result"
    }
   ],
   "source": [
    "import datetime\n",
    "datetime.datetime.strptime('2021-08-21', '%Y-%m-%d').strftime('%d/%m/%y')\n",
    "datetime.datetime.strptime('2021-08-21', '%Y-%m-%d').strftime('%B %d %Y')"
   ]
  },
  {
   "cell_type": "markdown",
   "id": "396d0b85",
   "metadata": {},
   "source": [
    "## 8장 2절 "
   ]
  },
  {
   "cell_type": "code",
   "execution_count": 8,
   "id": "453eceae",
   "metadata": {},
   "outputs": [],
   "source": [
    "import matplotlib\n",
    "import matplotlib.pyplot as plt \n",
    "import seaborn as sns"
   ]
  },
  {
   "cell_type": "code",
   "execution_count": 9,
   "id": "43ea52fa",
   "metadata": {},
   "outputs": [
    {
     "data": {
      "image/png": "[encoded data removed]",
      "text/plain": [
       "<Figure size 432x288 with 1 Axes>"
      ]
     },
     "metadata": {
      "needs_background": "light"
     },
     "output_type": "display_data"
    }
   ],
   "source": [
    "sns.lineplot(data=kospi, x='new_Date', y='Close')\n",
    "plt.show()"
   ]
  }
 ],
 "metadata": {
  "kernelspec": {
   "display_name": "Python 3 (ipykernel)",
   "language": "python",
   "name": "python3"
  },
  "language_info": {
   "codemirror_mode": {
    "name": "ipython",
    "version": 3
   },
   "file_extension": ".py",
   "mimetype": "text/x-python",
   "name": "python",
   "nbconvert_exporter": "python",
   "pygments_lexer": "ipython3",
   "version": "3.9.7"
  }
 },
 "nbformat": 4,
 "nbformat_minor": 5
}
