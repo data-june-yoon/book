{
 "cells": [
  {
   "cell_type": "markdown",
   "id": "c2277d31",
   "metadata": {},
   "source": [
    "## 11장 2절 "
   ]
  },
  {
   "cell_type": "code",
   "execution_count": 1,
   "id": "49fd7de2",
   "metadata": {},
   "outputs": [],
   "source": [
    "import pandas as pd\n",
    "import numpy as np\n",
    "\n",
    "import matplotlib.pyplot as plt\n",
    "import seaborn as sns"
   ]
  },
  {
   "cell_type": "code",
   "execution_count": 2,
   "id": "93a7c82e",
   "metadata": {},
   "outputs": [],
   "source": [
    "def sample_means(sample_size): \n",
    "    means = np.zeros(1000)\n",
    "    for i in range(0, 1000):\n",
    "        sample = np.random.binomial(5, 0.7, sample_size)\n",
    "        means[i] = sample.mean()\n",
    "    return means"
   ]
  },
  {
   "cell_type": "code",
   "execution_count": 3,
   "id": "215da8d3",
   "metadata": {},
   "outputs": [],
   "source": [
    "np.random.seed(0) # seed 고정 "
   ]
  },
  {
   "cell_type": "code",
   "execution_count": 4,
   "id": "3e8678e6",
   "metadata": {},
   "outputs": [
    {
     "data": {
      "image/png": "[encoded data removed]",
      "text/plain": [
       "<Figure size 864x216 with 4 Axes>"
      ]
     },
     "metadata": {
      "needs_background": "light"
     },
     "output_type": "display_data"
    }
   ],
   "source": [
    "fig, axes = plt.subplots(nrows=1, ncols=4, figsize=(12, 3))\n",
    "\n",
    "sns.histplot(sample_means(3), ax = axes[0])\n",
    "axes[0].set_title('sample size = 3') \n",
    "sns.histplot(sample_means(10), ax = axes[1])\n",
    "axes[1].set_title('sample size = 10') \n",
    "sns.histplot(sample_means(100), ax = axes[2])\n",
    "axes[2].set_title('sample size = 100') \n",
    "sns.histplot(sample_means(5000), ax = axes[3])\n",
    "axes[3].set_title('sample size = 5000') \n",
    "\n",
    "fig.tight_layout() # 그래프들 간의 간격 띄우기 위함\n",
    "plt.show()"
   ]
  },
  {
   "cell_type": "markdown",
   "id": "4239081e",
   "metadata": {},
   "source": [
    "## 11장 3절"
   ]
  },
  {
   "cell_type": "code",
   "execution_count": 5,
   "id": "1ee16f66",
   "metadata": {},
   "outputs": [
    {
     "data": {
      "text/plain": [
       "52.645"
      ]
     },
     "execution_count": 5,
     "metadata": {},
     "output_type": "execute_result"
    }
   ],
   "source": [
    "import pandas as pd\n",
    "hsb2 = pd.read_csv('D:/Stat_Book/Data/hsb2.csv')\n",
    "x = hsb2.math\n",
    "sample_mean = hsb2.math.mean()\n",
    "sample_mean"
   ]
  },
  {
   "cell_type": "code",
   "execution_count": 6,
   "id": "9307f580",
   "metadata": {},
   "outputs": [],
   "source": [
    "from scipy import stats"
   ]
  },
  {
   "cell_type": "code",
   "execution_count": 7,
   "id": "0d5ba10e",
   "metadata": {},
   "outputs": [
    {
     "name": "stdout",
     "output_type": "stream",
     "text": [
      "confidence_interval : 51.33868 53.95132\n"
     ]
    }
   ],
   "source": [
    "sample_se = stats.sem(x)\n",
    "confidence_level = 0.95\n",
    "df = x.size - 1\n",
    "ci = stats.t.interval(confidence_level, df, sample_mean, sample_se)\n",
    "print('confidence_interval : %.5f %.5f' % ci)"
   ]
  },
  {
   "cell_type": "code",
   "execution_count": 8,
   "id": "f7490bba",
   "metadata": {},
   "outputs": [
    {
     "name": "stdout",
     "output_type": "stream",
     "text": [
      "confidence_interval : 50.92213 54.36787\n"
     ]
    }
   ],
   "source": [
    "confidence_level = 0.99\n",
    "ci2 = stats.t.interval(confidence_level, df, sample_mean, sample_se)\n",
    "print('confidence_interval : %.5f %.5f' % ci2)"
   ]
  }
 ],
 "metadata": {
  "kernelspec": {
   "display_name": "Python 3 (ipykernel)",
   "language": "python",
   "name": "python3"
  },
  "language_info": {
   "codemirror_mode": {
    "name": "ipython",
    "version": 3
   },
   "file_extension": ".py",
   "mimetype": "text/x-python",
   "name": "python",
   "nbconvert_exporter": "python",
   "pygments_lexer": "ipython3",
   "version": "3.9.7"
  }
 },
 "nbformat": 4,
 "nbformat_minor": 5
}
