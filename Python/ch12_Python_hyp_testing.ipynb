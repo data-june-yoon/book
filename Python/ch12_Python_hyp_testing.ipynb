{
 "cells": [
  {
   "cell_type": "markdown",
   "id": "1acc9f5c",
   "metadata": {},
   "source": [
    "## 12장 2절"
   ]
  },
  {
   "cell_type": "code",
   "execution_count": 2,
   "id": "8de41259",
   "metadata": {},
   "outputs": [
    {
     "data": {
      "text/html": [
       "<div>\n",
       "<style scoped>\n",
       "    .dataframe tbody tr th:only-of-type {\n",
       "        vertical-align: middle;\n",
       "    }\n",
       "\n",
       "    .dataframe tbody tr th {\n",
       "        vertical-align: top;\n",
       "    }\n",
       "\n",
       "    .dataframe thead th {\n",
       "        text-align: right;\n",
       "    }\n",
       "</style>\n",
       "<table border=\"1\" class=\"dataframe\">\n",
       "  <thead>\n",
       "    <tr style=\"text-align: right;\">\n",
       "      <th></th>\n",
       "      <th>id</th>\n",
       "      <th>female</th>\n",
       "      <th>race</th>\n",
       "      <th>ses</th>\n",
       "      <th>schtyp</th>\n",
       "      <th>prog</th>\n",
       "      <th>read</th>\n",
       "      <th>write</th>\n",
       "      <th>math</th>\n",
       "      <th>science</th>\n",
       "      <th>socst</th>\n",
       "      <th>gender</th>\n",
       "      <th>race_f</th>\n",
       "      <th>ses_f</th>\n",
       "      <th>schtyp_f</th>\n",
       "      <th>prog_f</th>\n",
       "    </tr>\n",
       "  </thead>\n",
       "  <tbody>\n",
       "    <tr>\n",
       "      <th>0</th>\n",
       "      <td>70</td>\n",
       "      <td>0</td>\n",
       "      <td>4</td>\n",
       "      <td>1</td>\n",
       "      <td>1</td>\n",
       "      <td>1</td>\n",
       "      <td>57</td>\n",
       "      <td>52</td>\n",
       "      <td>41</td>\n",
       "      <td>47</td>\n",
       "      <td>57</td>\n",
       "      <td>Male</td>\n",
       "      <td>White</td>\n",
       "      <td>Low</td>\n",
       "      <td>Public</td>\n",
       "      <td>General</td>\n",
       "    </tr>\n",
       "    <tr>\n",
       "      <th>1</th>\n",
       "      <td>121</td>\n",
       "      <td>1</td>\n",
       "      <td>4</td>\n",
       "      <td>2</td>\n",
       "      <td>1</td>\n",
       "      <td>3</td>\n",
       "      <td>68</td>\n",
       "      <td>59</td>\n",
       "      <td>53</td>\n",
       "      <td>63</td>\n",
       "      <td>61</td>\n",
       "      <td>Female</td>\n",
       "      <td>White</td>\n",
       "      <td>Middle</td>\n",
       "      <td>Public</td>\n",
       "      <td>Vocational</td>\n",
       "    </tr>\n",
       "    <tr>\n",
       "      <th>2</th>\n",
       "      <td>86</td>\n",
       "      <td>0</td>\n",
       "      <td>4</td>\n",
       "      <td>3</td>\n",
       "      <td>1</td>\n",
       "      <td>1</td>\n",
       "      <td>44</td>\n",
       "      <td>33</td>\n",
       "      <td>54</td>\n",
       "      <td>58</td>\n",
       "      <td>31</td>\n",
       "      <td>Male</td>\n",
       "      <td>White</td>\n",
       "      <td>High</td>\n",
       "      <td>Public</td>\n",
       "      <td>General</td>\n",
       "    </tr>\n",
       "    <tr>\n",
       "      <th>3</th>\n",
       "      <td>141</td>\n",
       "      <td>0</td>\n",
       "      <td>4</td>\n",
       "      <td>3</td>\n",
       "      <td>1</td>\n",
       "      <td>3</td>\n",
       "      <td>63</td>\n",
       "      <td>44</td>\n",
       "      <td>47</td>\n",
       "      <td>53</td>\n",
       "      <td>56</td>\n",
       "      <td>Male</td>\n",
       "      <td>White</td>\n",
       "      <td>High</td>\n",
       "      <td>Public</td>\n",
       "      <td>Vocational</td>\n",
       "    </tr>\n",
       "    <tr>\n",
       "      <th>4</th>\n",
       "      <td>172</td>\n",
       "      <td>0</td>\n",
       "      <td>4</td>\n",
       "      <td>2</td>\n",
       "      <td>1</td>\n",
       "      <td>2</td>\n",
       "      <td>47</td>\n",
       "      <td>52</td>\n",
       "      <td>57</td>\n",
       "      <td>53</td>\n",
       "      <td>61</td>\n",
       "      <td>Male</td>\n",
       "      <td>White</td>\n",
       "      <td>Middle</td>\n",
       "      <td>Public</td>\n",
       "      <td>Academic</td>\n",
       "    </tr>\n",
       "  </tbody>\n",
       "</table>\n",
       "</div>"
      ],
      "text/plain": [
       "    id  female  race  ses  schtyp  prog  read  write  math  science  socst  \\\n",
       "0   70       0     4    1       1     1    57     52    41       47     57   \n",
       "1  121       1     4    2       1     3    68     59    53       63     61   \n",
       "2   86       0     4    3       1     1    44     33    54       58     31   \n",
       "3  141       0     4    3       1     3    63     44    47       53     56   \n",
       "4  172       0     4    2       1     2    47     52    57       53     61   \n",
       "\n",
       "   gender race_f   ses_f schtyp_f      prog_f  \n",
       "0    Male  White     Low   Public     General  \n",
       "1  Female  White  Middle   Public  Vocational  \n",
       "2    Male  White    High   Public     General  \n",
       "3    Male  White    High   Public  Vocational  \n",
       "4    Male  White  Middle   Public    Academic  "
      ]
     },
     "execution_count": 2,
     "metadata": {},
     "output_type": "execute_result"
    }
   ],
   "source": [
    "import pandas as pd\n",
    "hsb2 = pd.read_csv('D:/Stat_Book/Data/hsb2.csv') # 실행시 경로 수정\n",
    "hsb2.head()"
   ]
  },
  {
   "cell_type": "code",
   "execution_count": 3,
   "id": "b8b28004",
   "metadata": {},
   "outputs": [
    {
     "data": {
      "text/plain": [
       "TtestResult(statistic=-3.5549890575193785, pvalue=0.00047222258665706484, df=199)"
      ]
     },
     "execution_count": 3,
     "metadata": {},
     "output_type": "execute_result"
    }
   ],
   "source": [
    "from scipy import stats\n",
    "\n",
    "# 단일 표본 T-검정\n",
    "result = stats.ttest_1samp(hsb2.math, 55)\n",
    "result"
   ]
  },
  {
   "cell_type": "code",
   "execution_count": 4,
   "id": "037c4c8b",
   "metadata": {},
   "outputs": [
    {
     "name": "stdout",
     "output_type": "stream",
     "text": [
      "검정통계량 = -3.5550 , p-value = 0.0005\n"
     ]
    }
   ],
   "source": [
    "print(\"검정통계량 = %.4f , p-value = %.4f\" % result)"
   ]
  },
  {
   "cell_type": "code",
   "execution_count": 5,
   "id": "fbb1533e",
   "metadata": {},
   "outputs": [
    {
     "name": "stdout",
     "output_type": "stream",
     "text": [
      "검정통계량 = -0.2230 , p-value = 0.8237\n"
     ]
    }
   ],
   "source": [
    "# 쌍체 표본 T-검정\n",
    "result2 = stats.ttest_rel(hsb2.math, hsb2.write)\n",
    "print(\"검정통계량 = %.4f , p-value = %.4f\" % result2)"
   ]
  },
  {
   "cell_type": "code",
   "execution_count": 6,
   "id": "ab50581d",
   "metadata": {},
   "outputs": [
    {
     "name": "stdout",
     "output_type": "stream",
     "text": [
      "F-검정통계량 =  1.1154388982897816 ,p-value =  0.5845384992564739\n"
     ]
    }
   ],
   "source": [
    "# 독립인 두 집단 T-검정\n",
    "dat_M = hsb2.loc[hsb2.female == 0]\n",
    "dat_F = hsb2.loc[hsb2.female == 1]\n",
    "\n",
    "df1 = len(dat_M)-1\n",
    "df2 = len(dat_F)-1\n",
    "F = dat_M.math.var() / dat_F.math.var()\n",
    "p_value = 2*min(stats.f.cdf(F, df1, df2), 1-stats.f.cdf(F, df1, df2))\n",
    "print('F-검정통계량 = ', F, ',p-value = ', p_value)"
   ]
  },
  {
   "cell_type": "code",
   "execution_count": 7,
   "id": "8ce32564",
   "metadata": {},
   "outputs": [
    {
     "name": "stdout",
     "output_type": "stream",
     "text": [
      "p-value : 0.5888\n"
     ]
    }
   ],
   "source": [
    "s, p = stats.bartlett(dat_M.math, dat_F.math)\n",
    "print('p-value : %.4f' % p)"
   ]
  },
  {
   "cell_type": "code",
   "execution_count": 8,
   "id": "6ea853b0",
   "metadata": {},
   "outputs": [
    {
     "name": "stdout",
     "output_type": "stream",
     "text": [
      "검정통계량 = 0.4130 , p-value = 0.6801\n"
     ]
    }
   ],
   "source": [
    "result3 = stats.ttest_ind(dat_M.math, dat_F.math)\n",
    "print(\"검정통계량 = %.4f , p-value = %.4f\" % result3)"
   ]
  },
  {
   "cell_type": "markdown",
   "id": "cf60f814",
   "metadata": {},
   "source": [
    "## 12장 3절 "
   ]
  },
  {
   "cell_type": "code",
   "execution_count": 10,
   "id": "f3905a30",
   "metadata": {},
   "outputs": [
    {
     "data": {
      "text/html": [
       "<div>\n",
       "<style scoped>\n",
       "    .dataframe tbody tr th:only-of-type {\n",
       "        vertical-align: middle;\n",
       "    }\n",
       "\n",
       "    .dataframe tbody tr th {\n",
       "        vertical-align: top;\n",
       "    }\n",
       "\n",
       "    .dataframe thead th {\n",
       "        text-align: right;\n",
       "    }\n",
       "</style>\n",
       "<table border=\"1\" class=\"dataframe\">\n",
       "  <thead>\n",
       "    <tr style=\"text-align: right;\">\n",
       "      <th></th>\n",
       "      <th>brand</th>\n",
       "    </tr>\n",
       "  </thead>\n",
       "  <tbody>\n",
       "    <tr>\n",
       "      <th>0</th>\n",
       "      <td>c</td>\n",
       "    </tr>\n",
       "    <tr>\n",
       "      <th>1</th>\n",
       "      <td>a</td>\n",
       "    </tr>\n",
       "    <tr>\n",
       "      <th>2</th>\n",
       "      <td>b</td>\n",
       "    </tr>\n",
       "    <tr>\n",
       "      <th>3</th>\n",
       "      <td>b</td>\n",
       "    </tr>\n",
       "    <tr>\n",
       "      <th>4</th>\n",
       "      <td>b</td>\n",
       "    </tr>\n",
       "  </tbody>\n",
       "</table>\n",
       "</div>"
      ],
      "text/plain": [
       "  brand\n",
       "0     c\n",
       "1     a\n",
       "2     b\n",
       "3     b\n",
       "4     b"
      ]
     },
     "execution_count": 10,
     "metadata": {},
     "output_type": "execute_result"
    }
   ],
   "source": [
    "# 적합성 검정 \n",
    "coffee = pd.read_csv('D:/Stat_Book/Data/coffee.csv') # 실행시 경로 수정\n",
    "coffee.head()"
   ]
  },
  {
   "cell_type": "code",
   "execution_count": 11,
   "id": "006dce91",
   "metadata": {},
   "outputs": [
    {
     "name": "stdout",
     "output_type": "stream",
     "text": [
      "카이제곱 검정통계량: 1.2600 , p-value : 0.5326\n"
     ]
    }
   ],
   "source": [
    "import numpy as np\n",
    "\n",
    "f_obs = coffee.brand.value_counts()\n",
    "f_obs\n",
    "f_exp = len(coffee.brand) * np.array([0.5, 0.3, 0.2])\n",
    "\n",
    "chisq, p = stats.chisquare(f_obs, f_exp)\n",
    "print('카이제곱 검정통계량: %.4f' % chisq, ', p-value : %.4f' % p)"
   ]
  },
  {
   "cell_type": "code",
   "execution_count": 12,
   "id": "a11f51e2",
   "metadata": {},
   "outputs": [
    {
     "name": "stdout",
     "output_type": "stream",
     "text": [
      "카이제곱 검정통계량: 448.5559 , p-value :  1.9134838120869063e-88\n"
     ]
    }
   ],
   "source": [
    "# 독립성 검정 \n",
    "\n",
    "import numpy as np\n",
    "obs = np.array([[43, 75, 118, 11], \n",
    "              [30, 231, 87, 27],\n",
    "              [104, 198, 33, 64],\n",
    "              [230, 130, 40, 37],\n",
    "              [72, 20, 25, 18]])\n",
    "\n",
    "chi2, p, dof, ex = stats.chi2_contingency(obs)\n",
    "print('카이제곱 검정통계량: %.4f' % chi2, ', p-value : ', p)"
   ]
  }
 ],
 "metadata": {
  "kernelspec": {
   "display_name": "Python 3 (ipykernel)",
   "language": "python",
   "name": "python3"
  },
  "language_info": {
   "codemirror_mode": {
    "name": "ipython",
    "version": 3
   },
   "file_extension": ".py",
   "mimetype": "text/x-python",
   "name": "python",
   "nbconvert_exporter": "python",
   "pygments_lexer": "ipython3",
   "version": "3.11.7"
  }
 },
 "nbformat": 4,
 "nbformat_minor": 5
}
